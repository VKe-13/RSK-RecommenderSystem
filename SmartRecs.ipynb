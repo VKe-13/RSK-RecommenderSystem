{
 "cells": [
  {
   "cell_type": "code",
   "execution_count": null,
   "metadata": {},
   "outputs": [],
   "source": [
    "import numpy as np\n",
    "import pandas as pd\n",
    "\n",
    "class SmartRecs:\n",
    "    def __init__(self, transactions_file, products_file):\n",
    "        self.transactions = pd.read_csv(transactions_file) # Load transactions data\n",
    "        self.products = pd.read_csv(products_file) # Load products data\n",
    "        self.top_k = None\n",
    "\n",
    "    def preprocess_data(self):\n",
    "        # Keep only relevant columns for transactions and products data\n",
    "        self.transactions = self.transactions[['user_id', 'product_id', 'order_number', 'add_to_cart_order']]\n",
    "        self.products = self.products[['product_id', 'product_name']]\n",
    "        # Calculate maximum order number per user\n",
    "        self.transactions['max_order'] = self.transactions.groupby('user_id')['order_number'].transform('max')\n",
    "        # Calculate maximum order number per user\n",
    "        self.transactions['weight_order'] = self.transactions['order_number'] / self.transactions['max_order']\n",
    "        # Calculate cumulative weight per user and product\n",
    "        self.transactions['weight_order'] = self.transactions.groupby(['user_id', 'product_id'])['weight_order'].cumsum()\n",
    "\n",
    "    def update_data(self, new_transactions_file=None, new_products_file=None):\n",
    "        if new_transactions_file is not None:\n",
    "            # Load new transactions data\n",
    "            new_transactions = pd.read_csv(new_transactions_file)\n",
    "            # Concatenate new data with existing data\n",
    "            self.transactions = pd.concat([self.transactions, new_transactions])\n",
    "\n",
    "        if new_products_file is not None:\n",
    "            # Load new products data\n",
    "            new_products = pd.read_csv(new_products_file)\n",
    "            # Concatenate new data with existing data\n",
    "            self.products = pd.concat([self.products, new_products])\n",
    "\n",
    "    def train_model(self):\n",
    "        self.preprocess_data()\n",
    "        # Get top 10 most popular products based on total orders\n",
    "        self.top_products = self.transactions.groupby('product_id').agg({'user_id': 'count'}).reset_index().sort_values('user_id', ascending=False)[:10]\n",
    "        \n",
    "        # Calculate weight and order position for each user-product combination\n",
    "        self.top_k = self.transactions.groupby(['user_id', 'product_id']).agg({'weight_order': 'max', 'add_to_cart_order': np.median}).reset_index()\n",
    "        \n",
    "        # Calculate new weight based on add_to_cart order\n",
    "        self.top_k['new_weight'] = self.top_k['weight_order'] / self.top_k['add_to_cart_order']\n",
    "        \n",
    "        # Sort by new weight in descending order\n",
    "        self.top_k = self.top_k.sort_values(by=['new_weight'], ascending=False)\n",
    "        \n",
    "        # Add products to users predictions, if they have less then 10 products\n",
    "        df_top = self.top_k.groupby('user_id')\n",
    "        users = df_top.groups.keys()\n",
    "        \n",
    "        for user_id  in users:\n",
    "                df_user = df_top.get_group(user_id)\n",
    "                if len(df_user['product_id']) < 10:\n",
    "                    # Fint items that not already in users recomandadion\n",
    "                    missing_products = self.top_products[~(self.top_products['product_id'].isin(df_user['product_id']))][:10-len(df_user['product_id'])]\n",
    "                    # Add user ID to missing products\n",
    "                    missing_products['user_id'] = user_id\n",
    "                    # Add users missing products to update recommendations\n",
    "                    self.top_k = pd.concat([self.top_k, missing_products])\n",
    "\n",
    "    def get_top_k_recommendations(self, user_id, k=10):\n",
    "        # Get top K recommendations for one user\n",
    "        if user_id not in self.top_k.user_id.unique():\n",
    "            top_k_products = self.top_products.head(k)\n",
    "            top_k_recommendations = top_k_products.merge(self.products, on='product_id', how='left')['product_name'].tolist()\n",
    "            return top_k_recommendations\n",
    "              \n",
    "        top_k_products = self.top_k[self.top_k['user_id'] == user_id].head(k)\n",
    "        # Join with the products DataFrame to get product names\n",
    "        top_k_recommendations = top_k_products.merge(self.products, on='product_id', how='left')['product_name'].tolist()\n",
    "        return top_k_recommendations\n",
    "\n",
    "    def get_top_k_recommendations_for_users(self, user_ids, k=10):\n",
    "        # Get top K recommendations for several users\n",
    "        recommendations = []\n",
    "        for user_id in user_ids:\n",
    "            user_recommendations = self.get_top_k_recommendations(user_id, k)\n",
    "            recommendations.append(user_recommendations)\n",
    "        return recommendations\n",
    "\n",
    "# Example usage\n",
    "recommender = SmartRecs('transactions.csv', 'products.csv')\n",
    "\n",
    "\n",
    "# Train the recommender system model\n",
    "recommender.train_model()\n",
    "\n",
    "\n",
    "\n"
   ]
  },
  {
   "cell_type": "code",
   "execution_count": 5,
   "metadata": {},
   "outputs": [
    {
     "name": "stdout",
     "output_type": "stream",
     "text": [
      "Top 5 recommendations for user 123: ['Organic Unsweetened Almond Milk', 'Hass Avocados', 'Soy Sauce', 'Organic Spring Mix', 'Organic Tortilla Chips']\n"
     ]
    }
   ],
   "source": [
    "# Get top K recommendations for a single user\n",
    "user_id = 123\n",
    "top_k = 5\n",
    "user_recommendations = recommender.get_top_k_recommendations(user_id, top_k)\n",
    "print(f\"Top {top_k} recommendations for user {user_id}: {user_recommendations}\")"
   ]
  },
  {
   "cell_type": "code",
   "execution_count": 6,
   "metadata": {},
   "outputs": [
    {
     "name": "stdout",
     "output_type": "stream",
     "text": [
      "Top 5 recommendations for user 123: ['Organic Unsweetened Almond Milk', 'Hass Avocados', 'Soy Sauce', 'Organic Spring Mix', 'Organic Tortilla Chips']\n",
      "Top 5 recommendations for user 3000000: ['Banana', 'Bag of Organic Bananas', 'Organic Strawberries', 'Organic Baby Spinach', 'Organic Hass Avocado']\n",
      "Top 5 recommendations for user 789: ['Cheez-It Baked Snack Crackers', 'French Vanilla Creamer', 'Organic Half & Half', 'Chunky Peanut Butter', 'Balsamic Vinegar']\n"
     ]
    }
   ],
   "source": [
    "# Get top K recommendations for multiple users\n",
    "user_ids = [123, 3000000, 789]\n",
    "user_recommendations = recommender.get_top_k_recommendations_for_users(user_ids, top_k)\n",
    "for i, user_id in enumerate(user_ids):\n",
    "    print(f\"Top {top_k} recommendations for user {user_id}: {user_recommendations[i]}\")"
   ]
  },
  {
   "cell_type": "code",
   "execution_count": null,
   "metadata": {},
   "outputs": [],
   "source": [
    "# Update data with fresh transactions and product information\n",
    "recommender.update_data(new_transactions_file='new_transactions.csv', \n",
    "                        new_products_file='new_products.csv')\n",
    "\n",
    "# Retrain the recommender system model\n",
    "recommender.train_model()"
   ]
  }
 ],
 "metadata": {
  "kernelspec": {
   "display_name": "Python 3",
   "language": "python",
   "name": "python3"
  },
  "language_info": {
   "codemirror_mode": {
    "name": "ipython",
    "version": 3
   },
   "file_extension": ".py",
   "mimetype": "text/x-python",
   "name": "python",
   "nbconvert_exporter": "python",
   "pygments_lexer": "ipython3",
   "version": "3.10.5"
  },
  "orig_nbformat": 4
 },
 "nbformat": 4,
 "nbformat_minor": 2
}
